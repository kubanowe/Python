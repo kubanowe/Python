{
 "cells": [
  {
   "cell_type": "markdown",
   "metadata": {},
   "source": [
    "# Wprowadzanie nowych danych\n",
    "Polega to na  na **tym** nie definiujemy typu\n",
    "## Tutaj drugi rzad\n",
    "### Trzeci rzad\n",
    "#### czwarty rzad\n"
   ]
  },
  {
   "cell_type": "code",
   "execution_count": 11,
   "metadata": {},
   "outputs": [],
   "source": [
    "name= 'John'"
   ]
  },
  {
   "cell_type": "code",
   "execution_count": 12,
   "metadata": {},
   "outputs": [
    {
     "name": "stdout",
     "output_type": "stream",
     "text": [
      "John\n"
     ]
    }
   ],
   "source": [
    "print (name)"
   ]
  },
  {
   "cell_type": "code",
   "execution_count": 13,
   "metadata": {},
   "outputs": [
    {
     "data": {
      "text/plain": [
       "'John'"
      ]
     },
     "execution_count": 13,
     "metadata": {},
     "output_type": "execute_result"
    }
   ],
   "source": [
    "name"
   ]
  },
  {
   "cell_type": "markdown",
   "metadata": {},
   "source": [
    "name=\"Corney\""
   ]
  },
  {
   "cell_type": "code",
   "execution_count": 16,
   "metadata": {},
   "outputs": [
    {
     "data": {
      "application/json": {
       "cell": {
        "!": "OSMagics",
        "HTML": "Other",
        "SVG": "Other",
        "bash": "Other",
        "capture": "ExecutionMagics",
        "cmd": "Other",
        "debug": "ExecutionMagics",
        "file": "Other",
        "html": "DisplayMagics",
        "javascript": "DisplayMagics",
        "js": "DisplayMagics",
        "latex": "DisplayMagics",
        "markdown": "DisplayMagics",
        "perl": "Other",
        "prun": "ExecutionMagics",
        "pypy": "Other",
        "python": "Other",
        "python2": "Other",
        "python3": "Other",
        "ruby": "Other",
        "script": "ScriptMagics",
        "sh": "Other",
        "svg": "DisplayMagics",
        "sx": "OSMagics",
        "system": "OSMagics",
        "time": "ExecutionMagics",
        "timeit": "ExecutionMagics",
        "writefile": "OSMagics"
       },
       "line": {
        "alias": "OSMagics",
        "alias_magic": "BasicMagics",
        "autocall": "AutoMagics",
        "automagic": "AutoMagics",
        "autosave": "KernelMagics",
        "bookmark": "OSMagics",
        "cd": "OSMagics",
        "clear": "KernelMagics",
        "cls": "KernelMagics",
        "colors": "BasicMagics",
        "config": "ConfigMagics",
        "connect_info": "KernelMagics",
        "copy": "Other",
        "ddir": "Other",
        "debug": "ExecutionMagics",
        "dhist": "OSMagics",
        "dirs": "OSMagics",
        "doctest_mode": "BasicMagics",
        "echo": "Other",
        "ed": "Other",
        "edit": "KernelMagics",
        "env": "OSMagics",
        "gui": "BasicMagics",
        "hist": "Other",
        "history": "HistoryMagics",
        "killbgscripts": "ScriptMagics",
        "ldir": "Other",
        "less": "KernelMagics",
        "load": "CodeMagics",
        "load_ext": "ExtensionMagics",
        "loadpy": "CodeMagics",
        "logoff": "LoggingMagics",
        "logon": "LoggingMagics",
        "logstart": "LoggingMagics",
        "logstate": "LoggingMagics",
        "logstop": "LoggingMagics",
        "ls": "Other",
        "lsmagic": "BasicMagics",
        "macro": "ExecutionMagics",
        "magic": "BasicMagics",
        "matplotlib": "PylabMagics",
        "mkdir": "Other",
        "more": "KernelMagics",
        "notebook": "BasicMagics",
        "page": "BasicMagics",
        "pastebin": "CodeMagics",
        "pdb": "ExecutionMagics",
        "pdef": "NamespaceMagics",
        "pdoc": "NamespaceMagics",
        "pfile": "NamespaceMagics",
        "pinfo": "NamespaceMagics",
        "pinfo2": "NamespaceMagics",
        "pip": "BasicMagics",
        "popd": "OSMagics",
        "pprint": "BasicMagics",
        "precision": "BasicMagics",
        "profile": "BasicMagics",
        "prun": "ExecutionMagics",
        "psearch": "NamespaceMagics",
        "psource": "NamespaceMagics",
        "pushd": "OSMagics",
        "pwd": "OSMagics",
        "pycat": "OSMagics",
        "pylab": "PylabMagics",
        "qtconsole": "KernelMagics",
        "quickref": "BasicMagics",
        "recall": "HistoryMagics",
        "rehashx": "OSMagics",
        "reload_ext": "ExtensionMagics",
        "ren": "Other",
        "rep": "Other",
        "rerun": "HistoryMagics",
        "reset": "NamespaceMagics",
        "reset_selective": "NamespaceMagics",
        "rmdir": "Other",
        "run": "ExecutionMagics",
        "save": "CodeMagics",
        "sc": "OSMagics",
        "set_env": "OSMagics",
        "store": "StoreMagics",
        "sx": "OSMagics",
        "system": "OSMagics",
        "tb": "ExecutionMagics",
        "time": "ExecutionMagics",
        "timeit": "ExecutionMagics",
        "unalias": "OSMagics",
        "unload_ext": "ExtensionMagics",
        "who": "NamespaceMagics",
        "who_ls": "NamespaceMagics",
        "whos": "NamespaceMagics",
        "xdel": "NamespaceMagics",
        "xmode": "BasicMagics"
       }
      },
      "text/plain": [
       "Available line magics:\n",
       "%alias  %alias_magic  %autocall  %automagic  %autosave  %bookmark  %cd  %clear  %cls  %colors  %config  %connect_info  %copy  %ddir  %debug  %dhist  %dirs  %doctest_mode  %echo  %ed  %edit  %env  %gui  %hist  %history  %killbgscripts  %ldir  %less  %load  %load_ext  %loadpy  %logoff  %logon  %logstart  %logstate  %logstop  %ls  %lsmagic  %macro  %magic  %matplotlib  %mkdir  %more  %notebook  %page  %pastebin  %pdb  %pdef  %pdoc  %pfile  %pinfo  %pinfo2  %popd  %pprint  %precision  %profile  %prun  %psearch  %psource  %pushd  %pwd  %pycat  %pylab  %qtconsole  %quickref  %recall  %rehashx  %reload_ext  %ren  %rep  %rerun  %reset  %reset_selective  %rmdir  %run  %save  %sc  %set_env  %store  %sx  %system  %tb  %time  %timeit  %unalias  %unload_ext  %who  %who_ls  %whos  %xdel  %xmode\n",
       "\n",
       "Available cell magics:\n",
       "%%!  %%HTML  %%SVG  %%bash  %%capture  %%cmd  %%debug  %%file  %%html  %%javascript  %%js  %%latex  %%markdown  %%perl  %%prun  %%pypy  %%python  %%python2  %%python3  %%ruby  %%script  %%sh  %%svg  %%sx  %%system  %%time  %%timeit  %%writefile\n",
       "\n",
       "Automagic is ON, % prefix IS NOT needed for line magics."
      ]
     },
     "execution_count": 16,
     "metadata": {},
     "output_type": "execute_result"
    }
   ],
   "source": [
    "%lsmagic"
   ]
  },
  {
   "cell_type": "code",
   "execution_count": 17,
   "metadata": {},
   "outputs": [
    {
     "data": {
      "text/plain": [
       "'C:\\\\Users\\\\Kuba'"
      ]
     },
     "execution_count": 17,
     "metadata": {},
     "output_type": "execute_result"
    }
   ],
   "source": [
    "%pwd"
   ]
  },
  {
   "cell_type": "code",
   "execution_count": 18,
   "metadata": {},
   "outputs": [
    {
     "name": "stdout",
     "output_type": "stream",
     "text": [
      " Wolumin w stacji C to Acer\n",
      " Numer seryjny woluminu: 002E-BE59\n",
      "\n",
      " Katalog: C:\\Users\\Kuba\n",
      "\n",
      "2018-03-24  07:37    <DIR>          .\n",
      "2018-03-24  07:37    <DIR>          ..\n",
      "2017-12-26  17:36    <DIR>          .android\n",
      "2017-11-29  11:59    <DIR>          .AndroidStudio3.0\n",
      "2018-02-03  22:20             7˙475 .bash_history\n",
      "2018-02-22  21:50    <DIR>          .conda\n",
      "2018-01-05  10:49    <DIR>          .eclipse\n",
      "2017-11-29  12:50                16 .emulator_console_auth_token\n",
      "2018-02-02  18:00               429 .gitconfig\n",
      "2017-11-29  12:18    <DIR>          .gradle\n",
      "2018-03-24  07:26    <DIR>          .ipynb_checkpoints\n",
      "2018-01-29  18:42    <DIR>          .ipython\n",
      "2018-01-29  19:52    <DIR>          .jupyter\n",
      "2018-01-29  20:00    <DIR>          .matplotlib\n",
      "2018-01-05  10:50    <DIR>          .p2\n",
      "2017-12-19  21:06    <DIR>          .PyCharmCE2017.3\n",
      "2018-02-03  19:29    <DIR>          .ssh\n",
      "2017-12-19  20:41             1˙045 .viminfo\n",
      "2017-12-20  08:44    <DIR>          .VirtualBox\n",
      "2018-01-29  18:36    <DIR>          Anaconda3\n",
      "2018-01-10  09:35    <DIR>          Contacts\n",
      "2018-03-06  13:54    <DIR>          Desktop\n",
      "2018-01-29  18:35    <DIR>          Documents\n",
      "2018-03-20  13:12    <DIR>          Downloads\n",
      "2018-01-05  11:22    <DIR>          eclipse-workspace\n",
      "2018-01-10  09:35    <DIR>          Favorites\n",
      "2018-03-20  10:35    <DIR>          Links\n",
      "2018-01-10  09:35    <DIR>          Music\n",
      "2018-03-20  10:35    <DIR>          OneDrive\n",
      "2018-02-01  22:44    <DIR>          PersonalOrganiser\n",
      "2018-01-10  09:35    <DIR>          Pictures\n",
      "2018-02-22  21:49    <DIR>          PycharmProjects\n",
      "2018-01-10  09:35    <DIR>          Saved Games\n",
      "2018-01-10  09:35    <DIR>          Searches\n",
      "2018-01-05  19:17    <DIR>          source\n",
      "2018-03-24  07:37             7˙047 Testing Jupyter.ipynb\n",
      "2017-12-19  19:00    <DIR>          testowanie-gita\n",
      "2018-01-30  13:39             3˙144 Untitled.ipynb\n",
      "2018-02-21  16:04                72 Untitled1.ipynb\n",
      "2018-02-22  22:06                72 Untitled2.ipynb\n",
      "2018-01-10  09:35    <DIR>          Videos\n",
      "2017-12-19  23:47    <DIR>          VirtualBox VMs\n",
      "2017-12-12  16:41    <DIR>          workspace\n",
      "               8 plik(˘w)             19˙300 bajt˘w\n",
      "              35 katalog(˘w)  102˙104˙764˙416 bajt˘w wolnych\n"
     ]
    }
   ],
   "source": [
    "%ls\n"
   ]
  },
  {
   "cell_type": "code",
   "execution_count": 25,
   "metadata": {},
   "outputs": [],
   "source": [
    "#%matplotlib inline"
   ]
  },
  {
   "cell_type": "code",
   "execution_count": 26,
   "metadata": {},
   "outputs": [
    {
     "data": {
      "image/png": "[encoded data removed]",
      "text/plain": [
       "<matplotlib.figure.Figure at 0x8e3f2e8>"
      ]
     },
     "metadata": {},
     "output_type": "display_data"
    }
   ],
   "source": [
    "import numpy as np\n",
    "import matplotlib.pyplot as plt\n",
    "\n",
    "N=50\n",
    "X=np.random.rand(N)\n",
    "Y=np.random.rand(N)\n",
    "colors=np.random.rand(N)\n",
    "area=np.pi*(15*np.random.rand(N))**2\n",
    "\n",
    "plt.scatter(X,Y,s=area, c=colors, alpha=0.5)\n",
    "plt.show()"
   ]
  },
  {
   "cell_type": "code",
   "execution_count": 34,
   "metadata": {},
   "outputs": [
    {
     "name": "stdout",
     "output_type": "stream",
     "text": [
      "916 ns ± 9.19 ns per loop (mean ± std. dev. of 7 runs, 1000000 loops each)\n"
     ]
    }
   ],
   "source": [
    "%%timeit\n",
    "square_events=(n*n for n in range(1000))"
   ]
  },
  {
   "cell_type": "code",
   "execution_count": 35,
   "metadata": {},
   "outputs": [
    {
     "data": {
      "text/html": [
       "<div>\n",
       "<style>\n",
       "    .dataframe thead tr:only-child th {\n",
       "        text-align: right;\n",
       "    }\n",
       "\n",
       "    .dataframe thead th {\n",
       "        text-align: left;\n",
       "    }\n",
       "\n",
       "    .dataframe tbody tr th {\n",
       "        vertical-align: top;\n",
       "    }\n",
       "</style>\n",
       "<table border=\"1\" class=\"dataframe\">\n",
       "  <thead>\n",
       "    <tr style=\"text-align: right;\">\n",
       "      <th></th>\n",
       "      <th>0</th>\n",
       "      <th>1</th>\n",
       "      <th>2</th>\n",
       "      <th>3</th>\n",
       "      <th>4</th>\n",
       "    </tr>\n",
       "  </thead>\n",
       "  <tbody>\n",
       "    <tr>\n",
       "      <th>0</th>\n",
       "      <td>-1.609686</td>\n",
       "      <td>0.674181</td>\n",
       "      <td>-2.371911</td>\n",
       "      <td>1.245044</td>\n",
       "      <td>-0.576090</td>\n",
       "    </tr>\n",
       "    <tr>\n",
       "      <th>1</th>\n",
       "      <td>-0.027114</td>\n",
       "      <td>-0.546901</td>\n",
       "      <td>-0.389028</td>\n",
       "      <td>0.315651</td>\n",
       "      <td>0.789994</td>\n",
       "    </tr>\n",
       "    <tr>\n",
       "      <th>2</th>\n",
       "      <td>-1.006295</td>\n",
       "      <td>-0.508501</td>\n",
       "      <td>-0.386751</td>\n",
       "      <td>1.707104</td>\n",
       "      <td>-1.084158</td>\n",
       "    </tr>\n",
       "    <tr>\n",
       "      <th>3</th>\n",
       "      <td>-0.260556</td>\n",
       "      <td>0.786304</td>\n",
       "      <td>1.417865</td>\n",
       "      <td>-1.151517</td>\n",
       "      <td>-0.761718</td>\n",
       "    </tr>\n",
       "    <tr>\n",
       "      <th>4</th>\n",
       "      <td>0.519601</td>\n",
       "      <td>0.962247</td>\n",
       "      <td>0.801795</td>\n",
       "      <td>-0.450647</td>\n",
       "      <td>-1.341775</td>\n",
       "    </tr>\n",
       "    <tr>\n",
       "      <th>5</th>\n",
       "      <td>0.368128</td>\n",
       "      <td>-1.098437</td>\n",
       "      <td>-0.041748</td>\n",
       "      <td>-0.658544</td>\n",
       "      <td>0.178661</td>\n",
       "    </tr>\n",
       "    <tr>\n",
       "      <th>6</th>\n",
       "      <td>-0.254379</td>\n",
       "      <td>-0.126297</td>\n",
       "      <td>-0.900536</td>\n",
       "      <td>-1.630233</td>\n",
       "      <td>1.233896</td>\n",
       "    </tr>\n",
       "    <tr>\n",
       "      <th>7</th>\n",
       "      <td>-0.388017</td>\n",
       "      <td>0.382340</td>\n",
       "      <td>-1.836949</td>\n",
       "      <td>-0.298987</td>\n",
       "      <td>-0.227803</td>\n",
       "    </tr>\n",
       "    <tr>\n",
       "      <th>8</th>\n",
       "      <td>0.593264</td>\n",
       "      <td>-0.192382</td>\n",
       "      <td>-0.809521</td>\n",
       "      <td>-0.125867</td>\n",
       "      <td>-0.294955</td>\n",
       "    </tr>\n",
       "    <tr>\n",
       "      <th>9</th>\n",
       "      <td>-0.584433</td>\n",
       "      <td>0.366159</td>\n",
       "      <td>0.017304</td>\n",
       "      <td>0.141978</td>\n",
       "      <td>0.779543</td>\n",
       "    </tr>\n",
       "  </tbody>\n",
       "</table>\n",
       "</div>"
      ],
      "text/plain": [
       "          0         1         2         3         4\n",
       "0 -1.609686  0.674181 -2.371911  1.245044 -0.576090\n",
       "1 -0.027114 -0.546901 -0.389028  0.315651  0.789994\n",
       "2 -1.006295 -0.508501 -0.386751  1.707104 -1.084158\n",
       "3 -0.260556  0.786304  1.417865 -1.151517 -0.761718\n",
       "4  0.519601  0.962247  0.801795 -0.450647 -1.341775\n",
       "5  0.368128 -1.098437 -0.041748 -0.658544  0.178661\n",
       "6 -0.254379 -0.126297 -0.900536 -1.630233  1.233896\n",
       "7 -0.388017  0.382340 -1.836949 -0.298987 -0.227803\n",
       "8  0.593264 -0.192382 -0.809521 -0.125867 -0.294955\n",
       "9 -0.584433  0.366159  0.017304  0.141978  0.779543"
      ]
     },
     "execution_count": 35,
     "metadata": {},
     "output_type": "execute_result"
    }
   ],
   "source": [
    "import pandas as pd\n",
    "import numpy as np\n",
    "\n",
    "df=pd.DataFrame(np.random.randn(10,5))\n",
    "df"
   ]
  },
  {
   "cell_type": "code",
   "execution_count": 36,
   "metadata": {},
   "outputs": [
    {
     "name": "stdout",
     "output_type": "stream",
     "text": [
      "          0         1         2         3         4\n",
      "0 -1.609686  0.674181 -2.371911  1.245044 -0.576090\n",
      "1 -0.027114 -0.546901 -0.389028  0.315651  0.789994\n",
      "2 -1.006295 -0.508501 -0.386751  1.707104 -1.084158\n",
      "3 -0.260556  0.786304  1.417865 -1.151517 -0.761718\n",
      "4  0.519601  0.962247  0.801795 -0.450647 -1.341775\n",
      "5  0.368128 -1.098437 -0.041748 -0.658544  0.178661\n",
      "6 -0.254379 -0.126297 -0.900536 -1.630233  1.233896\n",
      "7 -0.388017  0.382340 -1.836949 -0.298987 -0.227803\n",
      "8  0.593264 -0.192382 -0.809521 -0.125867 -0.294955\n",
      "9 -0.584433  0.366159  0.017304  0.141978  0.779543\n"
     ]
    }
   ],
   "source": [
    "print (df)"
   ]
  },
  {
   "cell_type": "code",
   "execution_count": null,
   "metadata": {
    "collapsed": true
   },
   "outputs": [],
   "source": []
  }
 ],
 "metadata": {
  "kernelspec": {
   "display_name": "Python 3",
   "language": "python",
   "name": "python3"
  },
  "language_info": {
   "codemirror_mode": {
    "name": "ipython",
    "version": 3
   },
   "file_extension": ".py",
   "mimetype": "text/x-python",
   "name": "python",
   "nbconvert_exporter": "python",
   "pygments_lexer": "ipython3",
   "version": "3.6.3"
  }
 },
 "nbformat": 4,
 "nbformat_minor": 2
}
